{
 "cells": [
  {
   "cell_type": "code",
   "execution_count": 85,
   "metadata": {},
   "outputs": [],
   "source": [
    "import numpy as np\n",
    "import cv2\n",
    "from numpy.lib.stride_tricks import sliding_window_view\n",
    "import os\n",
    "from distance.tools import l2_distance, l1_distance\n",
    "import matplotlib.pyplot as plt\n",
    "import random"
   ]
  },
  {
   "cell_type": "code",
   "execution_count": 103,
   "metadata": {},
   "outputs": [],
   "source": [
    "left_image_path = \"./data/Tsukuba/left.png\"\n",
    "right_image_path = \"./data/Tsukuba/right.png\"\n",
    "\n",
    "left_img = cv2.imread(left_image_path, 0)\n",
    "right_img = cv2.imread(right_image_path, 0)\n",
    "\n",
    "left_img = left_img.astype(np.float32)\n",
    "right_img = right_img.astype(np.float32)\n",
    "\n",
    "#cv2.imshow(\"left image\", left_img)"
   ]
  },
  {
   "cell_type": "code",
   "execution_count": 107,
   "metadata": {},
   "outputs": [
    {
     "data": {
      "text/plain": [
       "array([[ 0.,  0.,  0., ...,  0.,  0.,  0.],\n",
       "       [ 0., 10., 20., ..., 10.,  0.,  0.],\n",
       "       [ 0., 10., 20., ..., 10.,  0.,  0.],\n",
       "       ...,\n",
       "       [ 0., 10., 20., ...,  0.,  0.,  0.],\n",
       "       [ 0., 10., 20., ...,  0.,  0.,  0.],\n",
       "       [ 0.,  0.,  0., ...,  0.,  0.,  0.]], dtype=float32)"
      ]
     },
     "execution_count": 107,
     "metadata": {},
     "output_type": "execute_result"
    }
   ],
   "source": [
    "img = cv2.imread(\"./data/results/vectorization_l2_55.png\", 0)\n",
    "img = img.astype(np.float32)\n",
    "img"
   ]
  },
  {
   "cell_type": "code",
   "execution_count": 104,
   "metadata": {},
   "outputs": [],
   "source": [
    "disparity_range = 16\n",
    "distance = \"l2\"\n",
    "scale = 10\n",
    "save_result = True\n",
    "results_path = \"./data/results\"\n",
    "id = random.randint(0, 100)\n",
    "kernel_size = (3,3)"
   ]
  },
  {
   "cell_type": "code",
   "execution_count": 106,
   "metadata": {},
   "outputs": [
    {
     "data": {
      "text/plain": [
       "95"
      ]
     },
     "execution_count": 106,
     "metadata": {},
     "output_type": "execute_result"
    }
   ],
   "source": [
    "id"
   ]
  },
  {
   "cell_type": "code",
   "execution_count": 105,
   "metadata": {},
   "outputs": [
    {
     "name": "stdout",
     "output_type": "stream",
     "text": [
      "Saving result...\n",
      "Done!\n"
     ]
    }
   ],
   "source": [
    "height, width = left_img.shape\n",
    "\n",
    "costs = np.full((height, width, disparity_range), fill_value = 255, dtype = np.float32)\n",
    "half_kernel = int((kernel_size[0] - 1) / 2)\n",
    "\n",
    "for j in range(disparity_range):\n",
    "    left_d = left_img[half_kernel: height - half_kernel, half_kernel + j: width - half_kernel]\n",
    "    right_d = right_img[:, 0: width - j]\n",
    "    h,w = left_d.shape\n",
    "\n",
    "    v_right = sliding_window_view(right_d, (3,3))\n",
    "    \n",
    "    right_cumsum = np.array([np.cumsum(i)[-1] for l in v_right for i in l])\n",
    "    right_cumsum_rs = right_cumsum.reshape(h, w)\n",
    "\n",
    "    if distance == \"l1\":\n",
    "        costs[half_kernel: height - half_kernel, half_kernel + j: width - half_kernel, j] = l1_distance(left_d, right_cumsum_rs)\n",
    "        \n",
    "    if distance == \"l2\":\n",
    "        costs[half_kernel: height - half_kernel, half_kernel + j: width - half_kernel, j] = l2_distance(left_d, right_cumsum_rs)\n",
    "\n",
    "    min_cost_indices = np.argmin(costs, axis = 2)\n",
    "    depth = min_cost_indices * scale\n",
    "    depth = depth.astype(np.uint8)\n",
    "\n",
    "if save_result == True:\n",
    "    print(\"Saving result...\")\n",
    "    cv2.imwrite(f\"{results_path}/vectorization_{distance}_{id}.png\", depth)\n",
    "    cv2.imwrite(f\"{results_path}/vectorization_{distance}_{id}_color.png\", cv2.applyColorMap(depth, cv2.COLORMAP_JET))\n",
    "print(\"Done!\")\n",
    "\n",
    " "
   ]
  },
  {
   "cell_type": "code",
   "execution_count": 15,
   "metadata": {},
   "outputs": [
    {
     "data": {
      "text/plain": [
       "(288, 384)"
      ]
     },
     "execution_count": 15,
     "metadata": {},
     "output_type": "execute_result"
    }
   ],
   "source": []
  },
  {
   "cell_type": "code",
   "execution_count": 14,
   "metadata": {},
   "outputs": [],
   "source": [
    "padding = 10 \n",
    "\n",
    "c2 = np.full((height + 10, width + 10), fill_value = 255, dtype=np.float32)\n",
    "\n",
    "center = padding // 2\n",
    "c2[center: center + height, \n",
    "   center: center + width] = left_img"
   ]
  },
  {
   "cell_type": "code",
   "execution_count": 95,
   "metadata": {},
   "outputs": [
    {
     "data": {
      "text/plain": [
       "(3, 3, 3, 3)"
      ]
     },
     "execution_count": 95,
     "metadata": {},
     "output_type": "execute_result"
    }
   ],
   "source": [
    "x = np.arange(25)\n",
    "x = x.reshape((5,5))\n",
    "x_slide = sliding_window_view(x, (3,3))\n",
    "x_slide.shape"
   ]
  },
  {
   "cell_type": "code",
   "execution_count": 96,
   "metadata": {},
   "outputs": [
    {
     "data": {
      "text/plain": [
       "array([[ 0,  1,  2,  3,  4],\n",
       "       [ 5,  6,  7,  8,  9],\n",
       "       [10, 11, 12, 13, 14],\n",
       "       [15, 16, 17, 18, 19],\n",
       "       [20, 21, 22, 23, 24]])"
      ]
     },
     "execution_count": 96,
     "metadata": {},
     "output_type": "execute_result"
    }
   ],
   "source": [
    "x"
   ]
  },
  {
   "cell_type": "code",
   "execution_count": 101,
   "metadata": {},
   "outputs": [
    {
     "data": {
      "text/plain": [
       "array([[ 54,  63,  72],\n",
       "       [ 99, 108, 117],\n",
       "       [144, 153, 162]])"
      ]
     },
     "execution_count": 101,
     "metadata": {},
     "output_type": "execute_result"
    }
   ],
   "source": [
    "x2 = np.array(list(np.cumsum(i)[-1] for l in x_slide for i in l))\n",
    "x2 = x2.reshape((3,3))\n",
    "x2"
   ]
  },
  {
   "cell_type": "code",
   "execution_count": 16,
   "metadata": {},
   "outputs": [
    {
     "data": {
      "text/plain": [
       "(288, 384)"
      ]
     },
     "execution_count": 16,
     "metadata": {},
     "output_type": "execute_result"
    }
   ],
   "source": [
    "right_img.shape"
   ]
  },
  {
   "cell_type": "code",
   "execution_count": 17,
   "metadata": {},
   "outputs": [],
   "source": [
    "\n",
    "\n",
    "window = (5,5)\n",
    "\n",
    "v_right = sliding_window_view(right_img, window)\n"
   ]
  },
  {
   "cell_type": "code",
   "execution_count": 13,
   "metadata": {},
   "outputs": [
    {
     "data": {
      "text/plain": [
       "(286, 382, 3, 3)"
      ]
     },
     "execution_count": 13,
     "metadata": {},
     "output_type": "execute_result"
    }
   ],
   "source": [
    "# window size(3,3)\n",
    "v_right.shape"
   ]
  },
  {
   "cell_type": "code",
   "execution_count": 24,
   "metadata": {},
   "outputs": [
    {
     "name": "stdout",
     "output_type": "stream",
     "text": [
      "left shape (286, 378)\n",
      "right shape (286, 378, 3, 3)\n"
     ]
    }
   ],
   "source": [
    "disparity = 4\n",
    "left_d = left_img[1: height - 1, 1 + 4: width - 1]\n",
    "right_d = right_img[:, 0:width - 4]\n",
    "\n",
    "v_right = sliding_window_view(right_d, (3,3))\n",
    "print(\"left shape\", left_d.shape)\n",
    "print(\"right shape\", v_right.shape)"
   ]
  },
  {
   "cell_type": "code",
   "execution_count": 83,
   "metadata": {},
   "outputs": [],
   "source": [
    "value = np.full((height, width), fill_value = 255, dtype=np.float32)"
   ]
  },
  {
   "cell_type": "code",
   "execution_count": 84,
   "metadata": {},
   "outputs": [],
   "source": [
    "right_cumsum = np.array([np.cumsum(i)[-1] for l in v_right for i in l])\n",
    "right_cumsum_rs = right_cumsum.reshape(286, 378)\n",
    "value[1: height - 1, 1 + 4: width - 1] = l2_distance(left_d, right_cumsum_rs)"
   ]
  },
  {
   "cell_type": "code",
   "execution_count": null,
   "metadata": {},
   "outputs": [],
   "source": [
    "cv2.imwrite(f\"{results_path}/vectorization_{distance}_{id}.png\", value)\n",
    "cv2.imwrite(f\"{results_path}/vectorization_{distance}_{id}_color.png\", cv2.applyColorMap(value, cv2.COLORMAP_JET))"
   ]
  },
  {
   "cell_type": "code",
   "execution_count": 26,
   "metadata": {},
   "outputs": [
    {
     "data": {
      "text/plain": [
       "(286, 378)"
      ]
     },
     "execution_count": 26,
     "metadata": {},
     "output_type": "execute_result"
    }
   ],
   "source": [
    "  if distance == \"l2\":\n",
    "#         costs[:, j: width, j] = l2_distance(left_d, right_d)\n",
    "\n",
    "#     min_cost_indices = np.argmin(costs, axis = 2)\n",
    "#     depth = min_cost_indices * scale\n",
    "#     depth = depth.astype(np.uint8)\n",
    "\n",
    "# if save_result == True:\n",
    "#     print(\"Saving result...\")\n",
    "#     cv2.imwrite(f\"{results_path}/vectorization_{distance}_{id}.png\", depth)\n",
    "#     cv2.imwrite(f\"{results_path}/vectorization_{distance}_{id}_color.png\", cv2.applyColorMap(depth, cv2.COLORMAP_JET))\n"
   ]
  }
 ],
 "metadata": {
  "kernelspec": {
   "display_name": "pytorch",
   "language": "python",
   "name": "python3"
  },
  "language_info": {
   "codemirror_mode": {
    "name": "ipython",
    "version": 3
   },
   "file_extension": ".py",
   "mimetype": "text/x-python",
   "name": "python",
   "nbconvert_exporter": "python",
   "pygments_lexer": "ipython3",
   "version": "3.10.6"
  }
 },
 "nbformat": 4,
 "nbformat_minor": 2
}
