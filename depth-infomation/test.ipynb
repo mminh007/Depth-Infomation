{
 "cells": [
  {
   "cell_type": "code",
   "execution_count": 2,
   "metadata": {},
   "outputs": [],
   "source": [
    "import numpy as np\n",
    "import cv2\n",
    "\n",
    "import os\n",
    "from distance.tools import l2_distance, l1_distance\n",
    "import matplotlib.pyplot as plt\n",
    "import random"
   ]
  },
  {
   "cell_type": "code",
   "execution_count": 45,
   "metadata": {},
   "outputs": [],
   "source": [
    "left_image_path = \"./data/Tsukuba/left.png\"\n",
    "right_image_path = \"./data/Tsukuba/right.png\"\n",
    "\n",
    "left_img = cv2.imread(left_image_path, 0)\n",
    "right_img = cv2.imread(right_image_path, 0)\n",
    "\n",
    "left_img = left_img.astype(np.float32)\n",
    "right_img = right_img.astype(np.float32)\n",
    "\n",
    "#cv2.imshow(\"left image\", left_img)"
   ]
  },
  {
   "cell_type": "code",
   "execution_count": 3,
   "metadata": {},
   "outputs": [],
   "source": [
    "disparity_range = 16\n",
    "distance = \"l2\"\n",
    "scale = 10\n",
    "save_result = True\n",
    "results_path = \"./data/results\"\n",
    "id = random.randint(0, 100)"
   ]
  },
  {
   "cell_type": "code",
   "execution_count": 4,
   "metadata": {},
   "outputs": [
    {
     "data": {
      "text/plain": [
       "8"
      ]
     },
     "execution_count": 4,
     "metadata": {},
     "output_type": "execute_result"
    }
   ],
   "source": [
    "id"
   ]
  },
  {
   "cell_type": "code",
   "execution_count": 5,
   "metadata": {},
   "outputs": [
    {
     "name": "stdout",
     "output_type": "stream",
     "text": [
      "Saving result...\n",
      "Done!\n"
     ]
    }
   ],
   "source": [
    "height, width = left_img.shape\n",
    "\n",
    "costs = np.full((height, width, disparity_range), fill_value = 255, dtype = np.float32)\n",
    "\n",
    "for j in range(disparity_range):\n",
    "    left_d = left_img[:, j: width]\n",
    "    right_d = right_img[:, 0: width - j]\n",
    "        \n",
    "    if distance == \"l1\":\n",
    "        costs[:, j: width, j] = l1_distance(left_d, right_d)\n",
    "        \n",
    "    if distance == \"l2\":\n",
    "        costs[:, j: width, j] = l2_distance(left_d, right_d)\n",
    "\n",
    "    min_cost_indices = np.argmin(costs, axis = 2)\n",
    "    depth = min_cost_indices * scale\n",
    "    depth = depth.astype(np.uint8)\n",
    "\n",
    "if save_result == True:\n",
    "    print(\"Saving result...\")\n",
    "    cv2.imwrite(f\"{results_path}/vectorization_{distance}_{id}.png\", depth)\n",
    "    cv2.imwrite(f\"{results_path}/vectorization_{distance}_{id}_color.png\", cv2.applyColorMap(depth, cv2.COLORMAP_JET))\n",
    "print(\"Done!\")\n",
    "\n",
    " "
   ]
  },
  {
   "cell_type": "code",
   "execution_count": 6,
   "metadata": {},
   "outputs": [
    {
     "data": {
      "text/plain": [
       "(288, 384)"
      ]
     },
     "execution_count": 6,
     "metadata": {},
     "output_type": "execute_result"
    }
   ],
   "source": [
    "left_img.shape"
   ]
  },
  {
   "cell_type": "code",
   "execution_count": 7,
   "metadata": {},
   "outputs": [],
   "source": [
    "padding = 10 \n",
    "c2 = np.full((height + 10, width + 10), fill_value = 255, dtype=np.float32)\n",
    "\n",
    "center = padding // 2\n",
    "c2[center: center + height, \n",
    "   center: center + width] = left_img"
   ]
  },
  {
   "cell_type": "code",
   "execution_count": 58,
   "metadata": {},
   "outputs": [
    {
     "data": {
      "text/plain": [
       "(3, 3, 3, 3)"
      ]
     },
     "execution_count": 58,
     "metadata": {},
     "output_type": "execute_result"
    }
   ],
   "source": [
    "x = np.arange(25)\n",
    "x = x.reshape((5,5))\n",
    "x_slide = sliding_window_view(x, (3,3))\n",
    "x_slide.shape"
   ]
  },
  {
   "cell_type": "code",
   "execution_count": 59,
   "metadata": {},
   "outputs": [
    {
     "data": {
      "text/plain": [
       "array([[ 0,  1,  2,  3,  4],\n",
       "       [ 5,  6,  7,  8,  9],\n",
       "       [10, 11, 12, 13, 14],\n",
       "       [15, 16, 17, 18, 19],\n",
       "       [20, 21, 22, 23, 24]])"
      ]
     },
     "execution_count": 59,
     "metadata": {},
     "output_type": "execute_result"
    }
   ],
   "source": [
    "x"
   ]
  },
  {
   "cell_type": "code",
   "execution_count": 52,
   "metadata": {},
   "outputs": [],
   "source": [
    "\n",
    "def cosine_similarity(x, y):\n",
    "    numerator = np.dot(x ,y)\n",
    "    denominator = np.linalg.norm(x) * np.linalg.norm(y)\n",
    "\n",
    "    return numerator / denominator if denominator != 0 else 0"
   ]
  },
  {
   "cell_type": "code",
   "execution_count": 51,
   "metadata": {},
   "outputs": [],
   "source": [
    "from numpy.lib.stride_tricks import sliding_window_view\n",
    "\n",
    "window = (3,3)\n",
    "\n",
    "v_left = sliding_window_view(left_img, window)\n",
    "v_right = sliding_window_view(left_img, window)\n"
   ]
  },
  {
   "cell_type": "code",
   "execution_count": 60,
   "metadata": {},
   "outputs": [
    {
     "data": {
      "text/plain": [
       "(286, 382, 3, 3)"
      ]
     },
     "execution_count": 60,
     "metadata": {},
     "output_type": "execute_result"
    }
   ],
   "source": [
    "v_left.shape"
   ]
  },
  {
   "cell_type": "code",
   "execution_count": 54,
   "metadata": {},
   "outputs": [],
   "source": [
    "re = c2 = np.full((v_left.shape[0], v_left.shape[1]), fill_value = 255, dtype=np.float32)"
   ]
  },
  {
   "cell_type": "code",
   "execution_count": 53,
   "metadata": {},
   "outputs": [
    {
     "ename": "MemoryError",
     "evalue": "Unable to allocate 400. GiB for an array with shape (286, 382, 3, 286, 382, 3) and data type float32",
     "output_type": "error",
     "traceback": [
      "\u001b[1;31m---------------------------------------------------------------------------\u001b[0m",
      "\u001b[1;31mMemoryError\u001b[0m                               Traceback (most recent call last)",
      "Cell \u001b[1;32mIn[53], line 1\u001b[0m\n\u001b[1;32m----> 1\u001b[0m similar \u001b[38;5;241m=\u001b[39m \u001b[43mcosine_similarity\u001b[49m\u001b[43m(\u001b[49m\u001b[43mv_left\u001b[49m\u001b[43m,\u001b[49m\u001b[43m \u001b[49m\u001b[43mv_right\u001b[49m\u001b[43m)\u001b[49m\n",
      "Cell \u001b[1;32mIn[52], line 2\u001b[0m, in \u001b[0;36mcosine_similarity\u001b[1;34m(x, y)\u001b[0m\n\u001b[0;32m      1\u001b[0m \u001b[38;5;28;01mdef\u001b[39;00m \u001b[38;5;21mcosine_similarity\u001b[39m(x, y):\n\u001b[1;32m----> 2\u001b[0m     numerator \u001b[38;5;241m=\u001b[39m \u001b[43mnp\u001b[49m\u001b[38;5;241;43m.\u001b[39;49m\u001b[43mdot\u001b[49m\u001b[43m(\u001b[49m\u001b[43mx\u001b[49m\u001b[43m \u001b[49m\u001b[43m,\u001b[49m\u001b[43my\u001b[49m\u001b[43m)\u001b[49m\n\u001b[0;32m      3\u001b[0m     denominator \u001b[38;5;241m=\u001b[39m np\u001b[38;5;241m.\u001b[39mlinalg\u001b[38;5;241m.\u001b[39mnorm(x) \u001b[38;5;241m*\u001b[39m np\u001b[38;5;241m.\u001b[39mlinalg\u001b[38;5;241m.\u001b[39mnorm(y)\n\u001b[0;32m      5\u001b[0m     \u001b[38;5;28;01mreturn\u001b[39;00m numerator \u001b[38;5;241m/\u001b[39m denominator \u001b[38;5;28;01mif\u001b[39;00m denominator \u001b[38;5;241m!=\u001b[39m \u001b[38;5;241m0\u001b[39m \u001b[38;5;28;01melse\u001b[39;00m \u001b[38;5;241m0\u001b[39m\n",
      "\u001b[1;31mMemoryError\u001b[0m: Unable to allocate 400. GiB for an array with shape (286, 382, 3, 286, 382, 3) and data type float32"
     ]
    }
   ],
   "source": [
    "for i in range(v_left[0]):\n",
    "    for j in range(i):\n",
    "         "
   ]
  },
  {
   "cell_type": "code",
   "execution_count": 3,
   "metadata": {},
   "outputs": [
    {
     "data": {
      "text/plain": [
       "array([[1.66666667, 0.66666667],\n",
       "       [0.66666667, 0.66666667]])"
      ]
     },
     "execution_count": 3,
     "metadata": {},
     "output_type": "execute_result"
    }
   ],
   "source": [
    "import math\n",
    "x = [1,2,3,4]\n",
    "y = [2,3,4,3]\n",
    "np.cov(x, y)"
   ]
  },
  {
   "cell_type": "code",
   "execution_count": null,
   "metadata": {},
   "outputs": [],
   "source": [
    "1 C \n",
    "2 B \n",
    "3 A \n",
    "4 C \n",
    "5 C \n",
    "6 B \n",
    "7 \n",
    "8 B \n",
    "9 \n",
    "10 B \n"
   ]
  }
 ],
 "metadata": {
  "kernelspec": {
   "display_name": "pytorch",
   "language": "python",
   "name": "python3"
  },
  "language_info": {
   "codemirror_mode": {
    "name": "ipython",
    "version": 3
   },
   "file_extension": ".py",
   "mimetype": "text/x-python",
   "name": "python",
   "nbconvert_exporter": "python",
   "pygments_lexer": "ipython3",
   "version": "3.10.14"
  }
 },
 "nbformat": 4,
 "nbformat_minor": 2
}
